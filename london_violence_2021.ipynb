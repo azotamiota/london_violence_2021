{
 "cells": [
  {
   "cell_type": "code",
   "execution_count": 1,
   "id": "12fb64c3",
   "metadata": {},
   "outputs": [],
   "source": [
    "import pandas as pd\n",
    "import geopandas as gpd\n",
    "import matplotlib.pyplot as plt\n",
    "import folium\n",
    "import folium.plugins"
   ]
  },
  {
   "cell_type": "code",
   "execution_count": 2,
   "id": "2bf5c983",
   "metadata": {},
   "outputs": [],
   "source": [
    "# Load data\n",
    "df1=pd.read_csv('2021-01-city-of-london-street.csv')\n",
    "df2=pd.read_csv('2021-02-city-of-london-street.csv')\n",
    "df3=pd.read_csv('2021-03-city-of-london-street.csv')\n",
    "df4=pd.read_csv('2021-04-city-of-london-street.csv')\n",
    "df5=pd.read_csv('2021-05-city-of-london-street.csv')\n",
    "df6=pd.read_csv('2021-01-metropolitan-street.csv')\n",
    "df7=pd.read_csv('2021-02-metropolitan-street.csv')\n",
    "df8=pd.read_csv('2021-03-metropolitan-street.csv')\n",
    "df9=pd.read_csv('2021-04-metropolitan-street.csv')\n",
    "df10=pd.read_csv('2021-05-metropolitan-street.csv')"
   ]
  },
  {
   "cell_type": "code",
   "execution_count": 3,
   "id": "b42efebd",
   "metadata": {},
   "outputs": [],
   "source": [
    "# Merge dataframes\n",
    "fulldf = pd.concat([df1, df2, df3, df4, df5, df6, df7, df8, df9, df10], axis=0)"
   ]
  },
  {
   "cell_type": "code",
   "execution_count": 4,
   "id": "7acf47f4",
   "metadata": {},
   "outputs": [],
   "source": [
    "# Clean data focusing on violence and sexual offences\n",
    "fulldf=fulldf[fulldf['Crime type'] == 'Violence and sexual offences']\n",
    "fulldf.reset_index(inplace=True)\n",
    "fulldf=fulldf[fulldf['Longitude'].notna()]"
   ]
  },
  {
   "cell_type": "code",
   "execution_count": 5,
   "id": "c1939323",
   "metadata": {},
   "outputs": [],
   "source": [
    "# Create geopandas dataframe\n",
    "fulldf_gdf=gpd.GeoDataFrame(fulldf, geometry=gpd.points_from_xy(fulldf['Longitude'], fulldf['Latitude']))"
   ]
  },
  {
   "cell_type": "code",
   "execution_count": 6,
   "id": "a8dccb09",
   "metadata": {},
   "outputs": [],
   "source": [
    "# Load London's borough map\n",
    "london = gpd.read_file('London_Borough_Excluding_MHW')"
   ]
  },
  {
   "cell_type": "code",
   "execution_count": 7,
   "id": "8b95c317",
   "metadata": {},
   "outputs": [],
   "source": [
    "# Create background map\n",
    "map = folium.Map(location=[51.51,-0.10], tiles='openstreetmap', zoom_start=10.5)"
   ]
  },
  {
   "cell_type": "code",
   "execution_count": 8,
   "id": "aefe3a59",
   "metadata": {},
   "outputs": [
    {
     "data": {
      "text/plain": [
       "<folium.features.Choropleth at 0x1df51969670>"
      ]
     },
     "execution_count": 8,
     "metadata": {},
     "output_type": "execute_result"
    }
   ],
   "source": [
    "# Add London's borogh map to base map\n",
    "folium.Choropleth(geo_data=london, fill_opacity=0).add_to(map)"
   ]
  },
  {
   "cell_type": "code",
   "execution_count": 9,
   "id": "8c76f450",
   "metadata": {},
   "outputs": [
    {
     "data": {
      "text/plain": [
       "<folium.plugins.heat_map.HeatMap at 0x1df51969070>"
      ]
     },
     "execution_count": 9,
     "metadata": {},
     "output_type": "execute_result"
    }
   ],
   "source": [
    "# Add heatmap showing offences\n",
    "folium.plugins.HeatMap(data=fulldf_gdf[['Latitude', 'Longitude']], radius=12,\n",
    "                       name='Violence and sexual offences (2021)', min_opacity=0.4).add_to(map)"
   ]
  },
  {
   "cell_type": "code",
   "execution_count": 10,
   "id": "8f7e1998",
   "metadata": {},
   "outputs": [],
   "source": [
    "# Save the map as .html file\n",
    "map.save('londonviolence.html')"
   ]
  }
 ],
 "metadata": {
  "kernelspec": {
   "display_name": "Python [conda env:geo]",
   "language": "python",
   "name": "conda-env-geo-py"
  },
  "language_info": {
   "codemirror_mode": {
    "name": "ipython",
    "version": 3
   },
   "file_extension": ".py",
   "mimetype": "text/x-python",
   "name": "python",
   "nbconvert_exporter": "python",
   "pygments_lexer": "ipython3",
   "version": "3.9.6"
  }
 },
 "nbformat": 4,
 "nbformat_minor": 5
}
